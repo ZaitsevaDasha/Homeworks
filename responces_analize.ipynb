{
 "cells": [
  {
   "cell_type": "code",
   "execution_count": 53,
   "metadata": {},
   "outputs": [],
   "source": [
    "from collections import Counter\n",
    "import nltk\n",
    "from nltk.corpus import stopwords\n",
    "stop_words = set(stopwords.words('russian'))\n",
    "from pymystem3 import Mystem\n",
    "m = Mystem()\n",
    "\n",
    "right_ans = ['позитивный', 'позитивный', 'позитивный', 'позитивный', 'позитивный', 'негативный', 'негативный', 'негативный', 'негативный', 'негативный']\n",
    "results = []   \n",
    "def define_tonality(review, set_positive, set_negative):\n",
    "    global right_ans\n",
    "    global results\n",
    "    if review is not '':\n",
    "        pos = 0\n",
    "        neg = 0\n",
    "        all_tokens = ''\n",
    "        tokens = nltk.word_tokenize(review)\n",
    "        for token in tokens:\n",
    "            if token.isalpha() and token not in stop_words:\n",
    "                all_tokens = all_tokens + ' ' + token\n",
    "        lemmas = m.lemmatize(all_tokens)\n",
    "        for lemma in lemmas:\n",
    "            if lemma in set_positive:\n",
    "                pos += 1\n",
    "            if lemma in set_negative:\n",
    "                neg += 1\n",
    "        if neg > pos:\n",
    "            results.append('негативный')\n",
    "        else:\n",
    "            results.append('позитивный')"
   ]
  },
  {
   "cell_type": "code",
   "execution_count": 54,
   "metadata": {},
   "outputs": [],
   "source": [
    "def count_accuracy(set_positive, set_negative):\n",
    "    with open('test_pos.txt', encoding = 'utf-8') as f:\n",
    "        reviews = f.read()\n",
    "        for review in reviews.splitlines():\n",
    "            define_tonality(review, set_positive, set_negative)\n",
    "        \n",
    "    with open('test_neg.txt', encoding = 'utf-8') as f:\n",
    "        reviews = f.read()\n",
    "        for review in reviews.splitlines():\n",
    "            define_tonality(review, set_positive, set_negative)\n",
    "    print(accuracy_score(results, right_ans))  "
   ]
  },
  {
   "cell_type": "code",
   "execution_count": 55,
   "metadata": {},
   "outputs": [],
   "source": [
    "def create_sets(lemmas_pos, lemmas_neg):\n",
    "    fil_lemmas_pos = []\n",
    "    fil_lemmas_neg = []\n",
    "    for lemma in lemmas_pos:\n",
    "        if lemma != ' ' and lemmas_pos.count(lemma) > 2:\n",
    "            fil_lemmas_pos.append(lemma)\n",
    "    for lemma in lemmas_neg:\n",
    "        if lemma != ' ' and lemmas_neg.count(lemma) > 2:\n",
    "            fil_lemmas_neg.append(lemma)\n",
    "    set_positive = set(fil_lemmas_pos)\n",
    "    set_negative = set(fil_lemmas_neg)\n",
    "    count_accuracy(set_positive, set_negative)"
   ]
  },
  {
   "cell_type": "code",
   "execution_count": 57,
   "metadata": {},
   "outputs": [
    {
     "name": "stdout",
     "output_type": "stream",
     "text": [
      "0.9\n"
     ]
    }
   ],
   "source": [
    "def predprocessing():\n",
    "    with open('positive.txt', encoding = 'utf-8') as f:\n",
    "        all_tokens = ''\n",
    "        reviews = f.read()\n",
    "        tokens = nltk.word_tokenize(reviews)\n",
    "        for token in tokens:\n",
    "            if token.isalpha() and token not in stop_words:\n",
    "                all_tokens = all_tokens + ' ' + token\n",
    "        lemmas_pos = m.lemmatize(all_tokens)\n",
    "    with open('negative.txt', encoding = 'utf-8') as f:\n",
    "        all_tokens = ''\n",
    "        reviews = f.read()\n",
    "        tokens = nltk.word_tokenize(reviews)\n",
    "        for token in tokens:\n",
    "            if token.isalpha() and token not in stop_words:\n",
    "                all_tokens = all_tokens + ' ' + token\n",
    "        lemmas_neg = m.lemmatize(all_tokens)\n",
    "    create_sets(lemmas_pos, lemmas_neg)"
   ]
  },
  {
   "cell_type": "markdown",
   "metadata": {},
   "source": [
    "Модель можно было бы улучшить, добавить стоп-слова (что я сделала выше), а также возможно было полезным смотреть не только на слова, но и на коллокации"
   ]
  },
  {
   "cell_type": "code",
   "execution_count": null,
   "metadata": {},
   "outputs": [],
   "source": []
  }
 ],
 "metadata": {
  "kernelspec": {
   "display_name": "Python 3",
   "language": "python",
   "name": "python3"
  },
  "language_info": {
   "codemirror_mode": {
    "name": "ipython",
    "version": 3
   },
   "file_extension": ".py",
   "mimetype": "text/x-python",
   "name": "python",
   "nbconvert_exporter": "python",
   "pygments_lexer": "ipython3",
   "version": "3.6.8"
  }
 },
 "nbformat": 4,
 "nbformat_minor": 4
}
